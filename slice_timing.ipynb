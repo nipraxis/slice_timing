{
 "cells": [
  {
   "cell_type": "markdown",
   "id": "9b4d2996",
   "metadata": {},
   "source": [
    "# Slice timing exercise\n",
    "\n",
    "See: [slice timing correction](https://textbook.nipraxis.org/slice_timing.html)\n",
    "for the background to this exercise."
   ]
  },
  {
   "cell_type": "code",
   "execution_count": null,
   "id": "71b7c291",
   "metadata": {},
   "outputs": [],
   "source": [
    "#: Import common modules\n",
    "import numpy as np  # the Python array package\n",
    "np.set_printoptions(precision=4, suppress=True)  # print to 4 DP\n",
    "import matplotlib.pyplot as plt  # the Python plotting package\n",
    "#: Set defaults for plotting\n",
    "plt.rcParams['image.cmap'] = 'gray'\n",
    "\n",
    "import nibabel as nib\n",
    "\n",
    "import nipraxis"
   ]
  },
  {
   "cell_type": "markdown",
   "id": "645b21bf",
   "metadata": {},
   "source": [
    "Load the image `ds114_sub009_t2r1.nii` with nibabel. Get the data:"
   ]
  },
  {
   "cell_type": "code",
   "execution_count": null,
   "id": "480ce796",
   "metadata": {},
   "outputs": [],
   "source": [
    "# Run this cell.\n",
    "# Load the image 'ds114_sub009_t2r1.nii' with nibabel\n",
    "# Get the data array from the image\n",
    "# Fetch image file.\n",
    "bold_fname = nipraxis.fetch_file('ds114_sub009_t2r1.nii')\n",
    "img = nib.load(bold_fname)\n",
    "data = img.get_fdata()\n",
    "data.shape"
   ]
  },
  {
   "cell_type": "markdown",
   "id": "a05d7c04",
   "metadata": {},
   "source": [
    "As you remember, the first volume in this dataset is a lot different from the\n",
    "rest, and this will mess up our interpolation in time.\n",
    "\n",
    "So, we need to remove the first volume from the data first, using slicing:"
   ]
  },
  {
   "cell_type": "code",
   "execution_count": null,
   "id": "eb94a101",
   "metadata": {},
   "outputs": [],
   "source": [
    "# Run this cell.\n",
    "# Remove the first volume by slicing\n",
    "fixed_data = data[..., 1:]\n",
    "fixed_data.shape"
   ]
  },
  {
   "cell_type": "markdown",
   "id": "41f7434c",
   "metadata": {},
   "source": [
    "We start with example time-courses from the first and second slice.\n",
    "\n",
    "Use slicing to get a z slice 0 time series for an example voxel at voxel\n",
    "coordinates (23, 19, 0).\n",
    "\n",
    "Do the same for a z slice 1 time series from (23, 19, 1).\n",
    "\n",
    "Plot these time series against volume number on the same graph:"
   ]
  },
  {
   "cell_type": "code",
   "execution_count": null,
   "id": "24eb41cd",
   "metadata": {},
   "outputs": [],
   "source": [
    "#- Slice out time series for voxel (23, 19, 0)\n",
    "slice_0_ts = ...\n",
    "#- Slice out time series for voxel (23, 19, 1)\n",
    "slice_1_ts = ...\n",
    "#- Plot both these time series against volume number, on the same graph\n",
    "plt...\n",
    "plt..."
   ]
  },
  {
   "cell_type": "code",
   "execution_count": null,
   "id": "dfc8f1a3",
   "metadata": {},
   "outputs": [],
   "source": [
    "assert len(slice_0_ts) == 172\n",
    "assert len(slice_1_ts) == 172\n",
    "assert not np.all(slice_0_ts == slice_1_ts)"
   ]
  },
  {
   "cell_type": "markdown",
   "id": "2872954f",
   "metadata": {},
   "source": [
    "The scanner collected slices for these data in an “ascending interleaved”\n",
    "order. That is, the scanner first collected z slice 0, then z slice 2, up to z\n",
    "slice 28. It then went back to collect z slice 1, 3, 5 up to z slice 29.\n",
    "\n",
    "That means the scanner started collecting slice 0 in each volume, at the\n",
    "beginning of the volume.\n",
    "\n",
    "The TR (time to collect one volume) is 2.5 seconds."
   ]
  },
  {
   "cell_type": "code",
   "execution_count": null,
   "id": "81267ab3",
   "metadata": {},
   "outputs": [],
   "source": [
    "# Run this cell.\n",
    "# The time between scans\n",
    "TR = 2.5"
   ]
  },
  {
   "cell_type": "markdown",
   "id": "09795135",
   "metadata": {},
   "source": [
    "Make a 1D time vector that has one element per remaining 3D volume in `data`,\n",
    "that corresponds to the start time in seconds of each volume. This also gives\n",
    "the slice 0 start times."
   ]
  },
  {
   "cell_type": "code",
   "execution_count": null,
   "id": "61a157d7",
   "metadata": {},
   "outputs": [],
   "source": [
    "#- Make time vector containing start times in second of each volume,\n",
    "#- relative to start of first volume.\n",
    "slice_0_times = ...\n",
    "# Show the result\n",
    "slice_0_times"
   ]
  },
  {
   "cell_type": "code",
   "execution_count": null,
   "id": "d9d92751",
   "metadata": {},
   "outputs": [],
   "source": [
    "assert len(slice_0_times) == 172\n",
    "assert np.all(slice_0_times[[0, -1]] == [0, 171 * TR])"
   ]
  },
  {
   "cell_type": "markdown",
   "id": "f5515c73",
   "metadata": {},
   "source": [
    "The scanner starts to collect z slice 1 exactly half way through the volume\n",
    "(half way through the TR). Make a new vector that is the start time of\n",
    "acquisition of slice 1."
   ]
  },
  {
   "cell_type": "code",
   "execution_count": null,
   "id": "47d10e39",
   "metadata": {},
   "outputs": [],
   "source": [
    "#- Make time vector containing start times in seconds of z slice 1,\n",
    "#- relative to start of first volume.\n",
    "#- Call this `slice_1_times`\n",
    "slice_1_times = ...\n",
    "# Show the result\n",
    "slice_1_times"
   ]
  },
  {
   "cell_type": "code",
   "execution_count": null,
   "id": "9676aa28",
   "metadata": {},
   "outputs": [],
   "source": [
    "assert len(slice_1_times) == 172\n",
    "assert np.all(slice_1_times[[0, -1]] == [1.25, 171.5 * TR])"
   ]
  },
  {
   "cell_type": "markdown",
   "id": "a2150225",
   "metadata": {},
   "source": [
    "Now plot the first 10 values for the slice 0 times, against the first 10 values\n",
    "of the slice 0 time series.\n",
    "\n",
    "Do the same plot for the first 10 values of the slice 1 times, against the\n",
    "first 10 values of the slice 1 time series.\n",
    "\n",
    "Use the `:+` line marker for the plots to get the actual position of the\n",
    "points, and dotted lines between them."
   ]
  },
  {
   "cell_type": "code",
   "execution_count": null,
   "id": "9c52e044",
   "metadata": {},
   "outputs": [],
   "source": [
    "#- Plot first 10 values of slice 0 times against first 10 of slice 0\n",
    "#- time series;\n",
    "#- Plot first 10 values of slice 1 times against first 10 of slice 1\n",
    "#- time series.\n",
    "#- Use ':+' marker\n",
    "plt...\n",
    "plt..."
   ]
  },
  {
   "cell_type": "markdown",
   "id": "c4d509c6",
   "metadata": {},
   "source": [
    "Import `InterpolatedUnivariateSpline` from `scipy.interpolate`. Make a new\n",
    "linear (`k=1`) interpolation object for slice 1, with the slice 1 times and\n",
    "values."
   ]
  },
  {
   "cell_type": "code",
   "execution_count": null,
   "id": "28108294",
   "metadata": {},
   "outputs": [],
   "source": [
    "#- Import `InterpolatedUnivariateSpline` from `scipy.interpolate`\n",
    "#- Make a new linear (`k=1`) interpolation object for slice 1, with\n",
    "#- slice 1 times and values.\n",
    "from scipy... import ...\n",
    "interp = ...\n",
    "# Show the result\n",
    "interp"
   ]
  },
  {
   "cell_type": "code",
   "execution_count": null,
   "id": "a4d76ac1",
   "metadata": {},
   "outputs": [],
   "source": [
    "assert interp is not ...\n",
    "# Look for a characteristic method of the interp class.\n",
    "assert hasattr(interp, 'derivative')"
   ]
  },
  {
   "cell_type": "markdown",
   "id": "0f1ef691",
   "metadata": {},
   "source": [
    "Call the object you got with the slice 0 times, to get the estimated time\n",
    "series values for slice 1, if slice 1 had been collected at the same time as\n",
    "slice 0:"
   ]
  },
  {
   "cell_type": "code",
   "execution_count": null,
   "id": "e69c561a",
   "metadata": {},
   "outputs": [],
   "source": [
    "#- Call interpolator with `slice_0_times` to get estimated values\n",
    "slice_1_ts_est = ...\n",
    "# Show the result\n",
    "slice_1_ts_est"
   ]
  },
  {
   "cell_type": "code",
   "execution_count": null,
   "id": "ce30792e",
   "metadata": {},
   "outputs": [],
   "source": [
    "assert len(slice_1_ts_est) == 172\n",
    "assert not np.all(slice_1_ts_est == slice_1_ts)"
   ]
  },
  {
   "cell_type": "markdown",
   "id": "d578b4b7",
   "metadata": {},
   "source": [
    "Repeat the plot of the first 10 values of the time series. This time, on the\n",
    "same plot, add the estimated values for slice 1, if they had been collected at\n",
    "the same time as slice 0. Use a black `x` for the estimated points (marker\n",
    "`'kx'`):"
   ]
  },
  {
   "cell_type": "code",
   "execution_count": null,
   "id": "b247b49a",
   "metadata": {},
   "outputs": [],
   "source": [
    "#- Plot first 10 values of slice 0 times against first 10 of slice 0\n",
    "#- time series;\n",
    "#- Plot first 10 values of slice 1 times against first 10 of slice 1\n",
    "#- time series;\n",
    "#- Plot first 10 values of slice 0 times against first 10 of\n",
    "#- interpolated slice 1 time series.\n",
    "plt..\n",
    "plt..\n",
    "plt.."
   ]
  },
  {
   "cell_type": "markdown",
   "id": "7e3c71cf",
   "metadata": {},
   "source": [
    "Use numpy to make a new copy of the data matrix. This will contain the slice\n",
    "time corrected values for all voxels. Copying the data matrix will give us the\n",
    "data we want for slice 0, because we want to keep the values for z slice 0\n",
    "unchanged.  We need to make a copy of the array to make sure we do not\n",
    "overwrite the original data."
   ]
  },
  {
   "cell_type": "code",
   "execution_count": null,
   "id": "0cc580ab",
   "metadata": {},
   "outputs": [],
   "source": [
    "#- Copy old data to a new array\n",
    "new_data = ...\n",
    "new_data.shape"
   ]
  },
  {
   "cell_type": "code",
   "execution_count": null,
   "id": "863b17d8",
   "metadata": {},
   "outputs": [],
   "source": [
    "assert np.all(new_data == fixed_data)\n",
    "# Check it is actually a copy, not another reference to\n",
    "# the same data.\n",
    "assert not np.shares_memory(new_data, fixed_data)"
   ]
  },
  {
   "cell_type": "markdown",
   "id": "f3142ed4",
   "metadata": {},
   "source": [
    "Loop over every x voxel coordinate, and then loop over every y voxel\n",
    "coordinate.\n",
    "\n",
    "For each x, y voxel coordinate:\n",
    "\n",
    "* Extract the time series at this x, y coordinate for slice 1.\n",
    "* Make a linear interpolator object with the slice 1 times and the extracted\n",
    "  time series.\n",
    "* Resample this interpolator at the slice 0 times.\n",
    "* Put this new resampled time series into the new data at the same position."
   ]
  },
  {
   "cell_type": "code",
   "execution_count": null,
   "id": "8e314445",
   "metadata": {},
   "outputs": [],
   "source": [
    "#- loop over all x coordinate values\n",
    "#- loop over all y coordinate values\n",
    "#- extract the time series at this x, y coordinate for slice 1;\n",
    "#- make a linear interpolator object with the slice 1 times and the\n",
    "#- extracted time series;\n",
    "#- resample this interpolator at the slice 0 times;\n",
    "#- put this new resampled time series into the new data at the same\n",
    "#- position.\n",
    "...\n",
    "new_data.shape"
   ]
  },
  {
   "cell_type": "code",
   "execution_count": null,
   "id": "8c7a7ac6",
   "metadata": {},
   "outputs": [],
   "source": [
    "assert not np.all(new_data[:, :, 1] == fixed_data[:, :, 1])"
   ]
  },
  {
   "cell_type": "markdown",
   "id": "28d2a32c",
   "metadata": {},
   "source": [
    "Now we need to do the same thing for all the z slices.\n",
    "\n",
    "To do this, we want to construct an offset vector (call it `time_offset`) of\n",
    "length (number of z slices) such that adding the `time_offset[z]` to the\n",
    "acquisition time of the first slice will give us the time of acquisition of\n",
    "slice `z`. The next few steps are to get to that `time_offset` vector.\n",
    "\n",
    "First get the number of slices (planes) in each 3D volume"
   ]
  },
  {
   "cell_type": "code",
   "execution_count": null,
   "id": "f77fa439",
   "metadata": {},
   "outputs": [],
   "source": [
    "# Run this cell\n",
    "n_slices = fixed_data.shape[-2]\n",
    "n_slices"
   ]
  },
  {
   "cell_type": "markdown",
   "id": "44c04a70",
   "metadata": {},
   "source": [
    "Next, make a new vector `acquisition_order` that is length `n_slices`, where\n",
    "`acquisition_order[i]` is the order of acquisition of slice index `i`. For\n",
    "example, the first 4 elements of `acqusition_order` should be 0, 15, 1, 16."
   ]
  },
  {
   "cell_type": "code",
   "execution_count": null,
   "id": "e919b6ba",
   "metadata": {},
   "outputs": [],
   "source": [
    "#- Make acquisition_order vector, length 30, with values:\n",
    "#- 0, 15, 1, 16 ... 14, 29\n",
    "acquisition_order = ...\n",
    "...\n",
    "...\n",
    "# Show the result\n",
    "acquisition_order"
   ]
  },
  {
   "cell_type": "code",
   "execution_count": null,
   "id": "3ef5fcb6",
   "metadata": {},
   "outputs": [],
   "source": [
    "assert len(acquisition_order) == n_slices\n",
    "assert np.all(acquisition_order[:4] == [0, 15, 1, 16])"
   ]
  },
  {
   "cell_type": "markdown",
   "id": "603993c8",
   "metadata": {},
   "source": [
    "Divide the acquisition order vector by number of slices, and multiply by the\n",
    "TR, to get the time offset for each z slice, relative to the start of the\n",
    "scan:"
   ]
  },
  {
   "cell_type": "code",
   "execution_count": null,
   "id": "c265a8c8",
   "metadata": {},
   "outputs": [],
   "source": [
    "#- Divide acquisition_order by number of slices, multiply by TR\n",
    "time_offsets = ...\n",
    "# Show the result\n",
    "time_offsets"
   ]
  },
  {
   "cell_type": "code",
   "execution_count": null,
   "id": "efe939ae",
   "metadata": {},
   "outputs": [],
   "source": [
    "assert len(time_offsets) == n_slices\n",
    "assert np.all(time_offsets[[0, 1, -1]] == [0, 1.25, 2.5 / 30 * 29])"
   ]
  },
  {
   "cell_type": "markdown",
   "id": "a601f453",
   "metadata": {},
   "source": [
    "Now we can do our whole slice time correction, for every slice.\n",
    "\n",
    "* For each z coordinate (slice index):\n",
    "    * Make a time vector by adding the slice time offset for this slice, to the\n",
    "      `slice_0` times. Call this the `slice_z_times` vector;\n",
    "    * For each x coordinate:\n",
    "        * For each y coordinate:\n",
    "            * extract the time series at this x, y, z coordinate;\n",
    "            * make a linear interpolator object with the `slice_z_times` and\n",
    "              the extracted time series;\n",
    "            * resample this interpolator at the slice 0 times;\n",
    "            * put this new resampled time series into the new data at the same\n",
    "              position."
   ]
  },
  {
   "cell_type": "code",
   "execution_count": null,
   "id": "8055beac",
   "metadata": {},
   "outputs": [],
   "source": [
    "#- For each z coordinate (slice index):\n",
    "#- # Make `slice_z_times` vector for this slice\n",
    "#- ## For each x coordinate:\n",
    "#- ### For each y coordinate:\n",
    "#- #### extract the time series at this x, y, z coordinate;\n",
    "#- #### make a linear interpolator object with the `slice_z_times` and\n",
    "#-      the extracted time series;\n",
    "#- #### resample this interpolator at the slice 0 times;\n",
    "#- #### put this new resampled time series into the new data at the\n",
    "#-      same position\n",
    "...\n",
    "..."
   ]
  },
  {
   "cell_type": "markdown",
   "id": "296d5383",
   "metadata": {},
   "source": [
    "Congratulations - you have just done slice timing correction on this 4D image."
   ]
  }
 ],
 "metadata": {
  "jupytext": {
   "notebook_metadata_filter": "all,-language_info",
   "split_at_heading": true,
   "text_representation": {
    "extension": ".Rmd",
    "format_name": "rmarkdown",
    "format_version": "1.2",
    "jupytext_version": "1.10.3"
   }
  },
  "kernelspec": {
   "display_name": "Python 3",
   "language": "python",
   "name": "python3"
  }
 },
 "nbformat": 4,
 "nbformat_minor": 5
}
