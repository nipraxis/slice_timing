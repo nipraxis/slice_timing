{
 "cells": [
  {
   "cell_type": "markdown",
   "id": "4406f92d",
   "metadata": {},
   "source": [
    "# Slice timing exercise\n",
    "\n",
    "See: [slice timing correction](https://textbook.nipraxis.org/slice_timing.html)\n",
    "for the background to this exercise."
   ]
  },
  {
   "cell_type": "code",
   "execution_count": 1,
   "id": "639af246",
   "metadata": {
    "execution": {
     "iopub.execute_input": "2022-09-21T05:24:09.895456Z",
     "iopub.status.busy": "2022-09-21T05:24:09.894411Z",
     "iopub.status.idle": "2022-09-21T05:24:10.601801Z",
     "shell.execute_reply": "2022-09-21T05:24:10.602632Z"
    }
   },
   "outputs": [],
   "source": [
    "#: Import common modules\n",
    "import numpy as np  # the Python array package\n",
    "np.set_printoptions(precision=4, suppress=True)  # print to 4 DP\n",
    "import matplotlib.pyplot as plt  # the Python plotting package\n",
    "#: Set defaults for plotting\n",
    "plt.rcParams['image.cmap'] = 'gray'\n",
    "\n",
    "import nibabel as nib\n",
    "\n",
    "import nipraxis"
   ]
  },
  {
   "cell_type": "markdown",
   "id": "35904b83",
   "metadata": {},
   "source": [
    "Load the image `ds114_sub009_t2r1.nii` with nibabel. Get the data:"
   ]
  },
  {
   "cell_type": "code",
   "execution_count": 2,
   "id": "644cef95",
   "metadata": {
    "execution": {
     "iopub.execute_input": "2022-09-21T05:24:10.609356Z",
     "iopub.status.busy": "2022-09-21T05:24:10.608396Z",
     "iopub.status.idle": "2022-09-21T05:24:10.861912Z",
     "shell.execute_reply": "2022-09-21T05:24:10.862661Z"
    }
   },
   "outputs": [],
   "source": [
    "# Run this cell.\n",
    "# Load the image 'ds114_sub009_t2r1.nii' with nibabel\n",
    "# Get the data array from the image\n",
    "# Fetch image file.\n",
    "bold_fname = nipraxis.fetch_file('ds114_sub009_t2r1.nii')\n",
    "img = nib.load(bold_fname)\n",
    "data = img.get_fdata()\n",
    "data.shape"
   ]
  },
  {
   "cell_type": "markdown",
   "id": "6dabc679",
   "metadata": {},
   "source": [
    "As you remember, the first volume in this dataset is a lot different from the\n",
    "rest, and this will mess up our interpolation in time.\n",
    "\n",
    "So, we need to remove the first volume from the data first, using slicing:"
   ]
  },
  {
   "cell_type": "code",
   "execution_count": 3,
   "id": "b452fe7f",
   "metadata": {
    "execution": {
     "iopub.execute_input": "2022-09-21T05:24:10.869492Z",
     "iopub.status.busy": "2022-09-21T05:24:10.868275Z",
     "iopub.status.idle": "2022-09-21T05:24:10.871910Z",
     "shell.execute_reply": "2022-09-21T05:24:10.872559Z"
    }
   },
   "outputs": [],
   "source": [
    "# Run this cell.\n",
    "# Remove the first volume by slicing\n",
    "fixed_data = data[..., 1:]\n",
    "fixed_data.shape"
   ]
  },
  {
   "cell_type": "markdown",
   "id": "cd7e63c6",
   "metadata": {},
   "source": [
    "We start with example time-courses from the first and second slice.\n",
    "\n",
    "Use slicing to get a z slice 0 time series for an example voxel at voxel\n",
    "coordinates (23, 19, 0).\n",
    "\n",
    "Do the same for a z slice 1 time series from (23, 19, 1).\n",
    "\n",
    "Plot these time series against volume number on the same graph:"
   ]
  },
  {
   "cell_type": "code",
   "execution_count": 4,
   "id": "f5455fac",
   "metadata": {
    "execution": {
     "iopub.execute_input": "2022-09-21T05:24:10.906143Z",
     "iopub.status.busy": "2022-09-21T05:24:10.904156Z",
     "iopub.status.idle": "2022-09-21T05:24:11.111514Z",
     "shell.execute_reply": "2022-09-21T05:24:11.112171Z"
    }
   },
   "outputs": [],
   "source": [
    "#- Slice out time series for voxel (23, 19, 0)\n",
    "slice_0_ts = fixed_data[23, 19, 0, :]\n",
    "#- Slice out time series for voxel (23, 19, 1)\n",
    "slice_1_ts = fixed_data[23, 19, 1, :]\n",
    "#- Plot both these time series against volume number, on the same graph\n",
    "plt.plot(slice_0_ts)\n",
    "plt.plot(slice_1_ts)"
   ]
  },
  {
   "cell_type": "code",
   "execution_count": 5,
   "id": "eff641c9",
   "metadata": {
    "execution": {
     "iopub.execute_input": "2022-09-21T05:24:11.118142Z",
     "iopub.status.busy": "2022-09-21T05:24:11.117267Z",
     "iopub.status.idle": "2022-09-21T05:24:11.120618Z",
     "shell.execute_reply": "2022-09-21T05:24:11.119923Z"
    }
   },
   "outputs": [],
   "source": [
    "assert len(slice_0_ts) == 172\n",
    "assert len(slice_1_ts) == 172\n",
    "assert not np.all(slice_0_ts == slice_1_ts)"
   ]
  },
  {
   "cell_type": "markdown",
   "id": "85265ed6",
   "metadata": {},
   "source": [
    "The scanner collected slices for these data in an “ascending interleaved”\n",
    "order. That is, the scanner first collected z slice 0, then z slice 2, up to z\n",
    "slice 28. It then went back to collect z slice 1, 3, 5 up to z slice 29.\n",
    "\n",
    "That means the scanner started collecting slice 0 in each volume, at the\n",
    "beginning of the volume.\n",
    "\n",
    "The TR (time to collect one volume) is 2.5 seconds."
   ]
  },
  {
   "cell_type": "code",
   "execution_count": 6,
   "id": "71a856f3",
   "metadata": {
    "execution": {
     "iopub.execute_input": "2022-09-21T05:24:11.126369Z",
     "iopub.status.busy": "2022-09-21T05:24:11.125466Z",
     "iopub.status.idle": "2022-09-21T05:24:11.128900Z",
     "shell.execute_reply": "2022-09-21T05:24:11.128175Z"
    }
   },
   "outputs": [],
   "source": [
    "# Run this cell.\n",
    "# The time between scans\n",
    "TR = 2.5"
   ]
  },
  {
   "cell_type": "markdown",
   "id": "af19cb88",
   "metadata": {},
   "source": [
    "Make a 1D time vector that has one element per remaining 3D volume in `data`,\n",
    "that corresponds to the start time in seconds of each volume. This also gives\n",
    "the slice 0 start times."
   ]
  },
  {
   "cell_type": "code",
   "execution_count": 7,
   "id": "3e06ea68",
   "metadata": {
    "execution": {
     "iopub.execute_input": "2022-09-21T05:24:11.137343Z",
     "iopub.status.busy": "2022-09-21T05:24:11.136282Z",
     "iopub.status.idle": "2022-09-21T05:24:11.140073Z",
     "shell.execute_reply": "2022-09-21T05:24:11.140728Z"
    }
   },
   "outputs": [],
   "source": [
    "#- Make time vector containing start times in second of each volume,\n",
    "#- relative to start of first volume.\n",
    "slice_0_times = np.arange(fixed_data.shape[-1]) * TR\n",
    "# Show the result\n",
    "slice_0_times"
   ]
  },
  {
   "cell_type": "code",
   "execution_count": 8,
   "id": "2bb86ea6",
   "metadata": {
    "execution": {
     "iopub.execute_input": "2022-09-21T05:24:11.147283Z",
     "iopub.status.busy": "2022-09-21T05:24:11.146212Z",
     "iopub.status.idle": "2022-09-21T05:24:11.148879Z",
     "shell.execute_reply": "2022-09-21T05:24:11.149533Z"
    }
   },
   "outputs": [],
   "source": [
    "assert len(slice_0_times) == 172\n",
    "assert np.all(slice_0_times[[0, -1]] == [0, 171 * TR])"
   ]
  },
  {
   "cell_type": "markdown",
   "id": "256576ff",
   "metadata": {},
   "source": [
    "The scanner starts to collect z slice 1 exactly half way through the volume\n",
    "(half way through the TR). Make a new vector that is the start time of\n",
    "acquisition of slice 1."
   ]
  },
  {
   "cell_type": "code",
   "execution_count": 9,
   "id": "d4435ba1",
   "metadata": {
    "execution": {
     "iopub.execute_input": "2022-09-21T05:24:11.157727Z",
     "iopub.status.busy": "2022-09-21T05:24:11.156547Z",
     "iopub.status.idle": "2022-09-21T05:24:11.160673Z",
     "shell.execute_reply": "2022-09-21T05:24:11.161513Z"
    }
   },
   "outputs": [],
   "source": [
    "#- Make time vector containing start times in seconds of z slice 1,\n",
    "#- relative to start of first volume.\n",
    "#- Call this `slice_1_times`\n",
    "slice_1_times = slice_0_times + TR / 2\n",
    "# Show the result\n",
    "slice_1_times"
   ]
  },
  {
   "cell_type": "code",
   "execution_count": 10,
   "id": "f777d9e6",
   "metadata": {
    "execution": {
     "iopub.execute_input": "2022-09-21T05:24:11.167897Z",
     "iopub.status.busy": "2022-09-21T05:24:11.166890Z",
     "iopub.status.idle": "2022-09-21T05:24:11.169674Z",
     "shell.execute_reply": "2022-09-21T05:24:11.170328Z"
    }
   },
   "outputs": [],
   "source": [
    "assert len(slice_1_times) == 172\n",
    "assert np.all(slice_1_times[[0, -1]] == [1.25, 171.5 * TR])"
   ]
  },
  {
   "cell_type": "markdown",
   "id": "7009c76a",
   "metadata": {},
   "source": [
    "Now plot the first 10 values for the slice 0 times, against the first 10 values\n",
    "of the slice 0 time series.\n",
    "\n",
    "Do the same plot for the first 10 values of the slice 1 times, against the\n",
    "first 10 values of the slice 1 time series.\n",
    "\n",
    "Use the `:+` line marker for the plots to get the actual position of the\n",
    "points, and dotted lines between them."
   ]
  },
  {
   "cell_type": "code",
   "execution_count": 11,
   "id": "3c992444",
   "metadata": {
    "execution": {
     "iopub.execute_input": "2022-09-21T05:24:11.204346Z",
     "iopub.status.busy": "2022-09-21T05:24:11.202570Z",
     "iopub.status.idle": "2022-09-21T05:24:11.390353Z",
     "shell.execute_reply": "2022-09-21T05:24:11.391188Z"
    }
   },
   "outputs": [],
   "source": [
    "#- Plot first 10 values of slice 0 times against first 10 of slice 0\n",
    "#- time series;\n",
    "#- Plot first 10 values of slice 1 times against first 10 of slice 1\n",
    "#- time series.\n",
    "#- Use ':+' marker\n",
    "plt.plot(slice_0_times[:10], slice_0_ts[:10], ':+')\n",
    "plt.plot(slice_1_times[:10], slice_1_ts[:10], ':+')"
   ]
  },
  {
   "cell_type": "markdown",
   "id": "ad6677fe",
   "metadata": {},
   "source": [
    "Import `InterpolatedUnivariateSpline` from `scipy.interpolate`. Make a new\n",
    "linear (`k=1`) interpolation object for slice 1, with the slice 1 times and\n",
    "values."
   ]
  },
  {
   "cell_type": "code",
   "execution_count": 12,
   "id": "e1bbbcb6",
   "metadata": {
    "execution": {
     "iopub.execute_input": "2022-09-21T05:24:11.398449Z",
     "iopub.status.busy": "2022-09-21T05:24:11.397344Z",
     "iopub.status.idle": "2022-09-21T05:24:11.823581Z",
     "shell.execute_reply": "2022-09-21T05:24:11.824263Z"
    }
   },
   "outputs": [],
   "source": [
    "#- Import `InterpolatedUnivariateSpline` from `scipy.interpolate`\n",
    "#- Make a new linear (`k=1`) interpolation object for slice 1, with\n",
    "#- slice 1 times and values.\n",
    "from scipy.interpolate import InterpolatedUnivariateSpline\n",
    "interp = InterpolatedUnivariateSpline(slice_1_times, slice_1_ts, k=1)\n",
    "# Show the result\n",
    "interp"
   ]
  },
  {
   "cell_type": "code",
   "execution_count": 13,
   "id": "562a9490",
   "metadata": {
    "execution": {
     "iopub.execute_input": "2022-09-21T05:24:11.837620Z",
     "iopub.status.busy": "2022-09-21T05:24:11.833274Z",
     "iopub.status.idle": "2022-09-21T05:24:11.843823Z",
     "shell.execute_reply": "2022-09-21T05:24:11.844553Z"
    }
   },
   "outputs": [],
   "source": [
    "assert interp is not ...\n",
    "# Look for a characteristic method of the interp class.\n",
    "assert hasattr(interp, 'derivative')"
   ]
  },
  {
   "cell_type": "markdown",
   "id": "85d6ba14",
   "metadata": {},
   "source": [
    "Call the object you got with the slice 0 times, to get the estimated time\n",
    "series values for slice 1, if slice 1 had been collected at the same time as\n",
    "slice 0:"
   ]
  },
  {
   "cell_type": "code",
   "execution_count": 14,
   "id": "efdc09a3",
   "metadata": {
    "execution": {
     "iopub.execute_input": "2022-09-21T05:24:11.856640Z",
     "iopub.status.busy": "2022-09-21T05:24:11.855096Z",
     "iopub.status.idle": "2022-09-21T05:24:11.861283Z",
     "shell.execute_reply": "2022-09-21T05:24:11.862501Z"
    }
   },
   "outputs": [],
   "source": [
    "#- Call interpolator with `slice_0_times` to get estimated values\n",
    "slice_1_ts_est = interp(slice_0_times)\n",
    "# Show the result\n",
    "slice_1_ts_est"
   ]
  },
  {
   "cell_type": "code",
   "execution_count": 15,
   "id": "dfc89863",
   "metadata": {
    "execution": {
     "iopub.execute_input": "2022-09-21T05:24:11.871054Z",
     "iopub.status.busy": "2022-09-21T05:24:11.869590Z",
     "iopub.status.idle": "2022-09-21T05:24:11.879311Z",
     "shell.execute_reply": "2022-09-21T05:24:11.877864Z"
    }
   },
   "outputs": [],
   "source": [
    "assert len(slice_1_ts_est) == 172\n",
    "assert not np.all(slice_1_ts_est == slice_1_ts)"
   ]
  },
  {
   "cell_type": "markdown",
   "id": "a18dbcbe",
   "metadata": {},
   "source": [
    "Repeat the plot of the first 10 values of the time series. This time, on the\n",
    "same plot, add the estimated values for slice 1, if they had been collected at\n",
    "the same time as slice 0. Use a black `x` for the estimated points (marker\n",
    "`'kx'`):"
   ]
  },
  {
   "cell_type": "code",
   "execution_count": 16,
   "id": "57380475",
   "metadata": {
    "execution": {
     "iopub.execute_input": "2022-09-21T05:24:11.942000Z",
     "iopub.status.busy": "2022-09-21T05:24:11.940321Z",
     "iopub.status.idle": "2022-09-21T05:24:12.176098Z",
     "shell.execute_reply": "2022-09-21T05:24:12.179324Z"
    }
   },
   "outputs": [],
   "source": [
    "#- Plot first 10 values of slice 0 times against first 10 of slice 0\n",
    "#- time series;\n",
    "#- Plot first 10 values of slice 1 times against first 10 of slice 1\n",
    "#- time series;\n",
    "#- Plot first 10 values of slice 0 times against first 10 of\n",
    "#- interpolated slice 1 time series.\n",
    "plt.plot(slice_0_times[:10], slice_0_ts[:10], ':+')\n",
    "plt.plot(slice_1_times[:10], slice_1_ts[:10], ':+')\n",
    "plt.plot(slice_0_times[:10], slice_1_ts_est[:10], 'kx')"
   ]
  },
  {
   "cell_type": "markdown",
   "id": "b87f63ef",
   "metadata": {},
   "source": [
    "Use numpy to make a new copy of the data matrix. This will contain the slice\n",
    "time corrected values for all voxels. Copying the data matrix will give us the\n",
    "data we want for slice 0, because we want to keep the values for z slice 0\n",
    "unchanged.  We need to make a copy of the array to make sure we do not\n",
    "overwrite the original data."
   ]
  },
  {
   "cell_type": "code",
   "execution_count": 17,
   "id": "6c80dba4",
   "metadata": {
    "execution": {
     "iopub.execute_input": "2022-09-21T05:24:12.188310Z",
     "iopub.status.busy": "2022-09-21T05:24:12.187415Z",
     "iopub.status.idle": "2022-09-21T05:24:13.222651Z",
     "shell.execute_reply": "2022-09-21T05:24:13.224643Z"
    }
   },
   "outputs": [],
   "source": [
    "#- Copy old data to a new array\n",
    "new_data = fixed_data.copy()\n",
    "new_data.shape"
   ]
  },
  {
   "cell_type": "code",
   "execution_count": 18,
   "id": "83b73346",
   "metadata": {
    "execution": {
     "iopub.execute_input": "2022-09-21T05:24:13.234437Z",
     "iopub.status.busy": "2022-09-21T05:24:13.233098Z",
     "iopub.status.idle": "2022-09-21T05:24:14.243006Z",
     "shell.execute_reply": "2022-09-21T05:24:14.243964Z"
    }
   },
   "outputs": [],
   "source": [
    "assert np.all(new_data == fixed_data)\n",
    "# Check it is actually a copy, not another reference to\n",
    "# the same data.\n",
    "assert not np.shares_memory(new_data, fixed_data)"
   ]
  },
  {
   "cell_type": "markdown",
   "id": "ccd8ac26",
   "metadata": {},
   "source": [
    "Loop over every x voxel coordinate, and then loop over every y voxel\n",
    "coordinate.\n",
    "\n",
    "For each x, y voxel coordinate:\n",
    "\n",
    "* Extract the time series at this x, y coordinate for slice 1.\n",
    "* Make a linear interpolator object with the slice 1 times and the extracted\n",
    "  time series.\n",
    "* Resample this interpolator at the slice 0 times.\n",
    "* Put this new resampled time series into the new data at the same position."
   ]
  },
  {
   "cell_type": "code",
   "execution_count": 19,
   "id": "34fd1fab",
   "metadata": {
    "execution": {
     "iopub.execute_input": "2022-09-21T05:24:14.253940Z",
     "iopub.status.busy": "2022-09-21T05:24:14.252486Z",
     "iopub.status.idle": "2022-09-21T05:24:14.721153Z",
     "shell.execute_reply": "2022-09-21T05:24:14.721838Z"
    }
   },
   "outputs": [],
   "source": [
    "#- loop over all x coordinate values\n",
    "#- loop over all y coordinate values\n",
    "#- extract the time series at this x, y coordinate for slice 1;\n",
    "#- make a linear interpolator object with the slice 1 times and the\n",
    "#- extracted time series;\n",
    "#- resample this interpolator at the slice 0 times;\n",
    "#- put this new resampled time series into the new data at the same\n",
    "#- position.\n",
    "for x in range(fixed_data.shape[0]):\n",
    "    for y in range(fixed_data.shape[1]):\n",
    "        time_series = fixed_data[x, y, 1, :]\n",
    "        interp = InterpolatedUnivariateSpline(slice_1_times, time_series, k=1)\n",
    "        new_series = interp(slice_0_times)\n",
    "        new_data[x, y, 1, :] = new_series\n",
    "new_data.shape"
   ]
  },
  {
   "cell_type": "code",
   "execution_count": 20,
   "id": "321e58ea",
   "metadata": {
    "execution": {
     "iopub.execute_input": "2022-09-21T05:24:14.728495Z",
     "iopub.status.busy": "2022-09-21T05:24:14.727367Z",
     "iopub.status.idle": "2022-09-21T05:24:14.752899Z",
     "shell.execute_reply": "2022-09-21T05:24:14.754011Z"
    }
   },
   "outputs": [],
   "source": [
    "assert not np.all(new_data[:, :, 1] == fixed_data[:, :, 1])"
   ]
  },
  {
   "cell_type": "markdown",
   "id": "61305d98",
   "metadata": {},
   "source": [
    "Now we need to do the same thing for all the z slices.\n",
    "\n",
    "To do this, we want to construct an offset vector (call it `time_offset`) of\n",
    "length (number of z slices) such that adding the `time_offset[z]` to the\n",
    "acquisition time of the first slice will give us the time of acquisition of\n",
    "slice `z`. The next few steps are to get to that `time_offset` vector.\n",
    "\n",
    "First get the number of slices (planes) in each 3D volume"
   ]
  },
  {
   "cell_type": "code",
   "execution_count": 21,
   "id": "d54fb09e",
   "metadata": {
    "execution": {
     "iopub.execute_input": "2022-09-21T05:24:14.762388Z",
     "iopub.status.busy": "2022-09-21T05:24:14.761260Z",
     "iopub.status.idle": "2022-09-21T05:24:14.765111Z",
     "shell.execute_reply": "2022-09-21T05:24:14.765760Z"
    }
   },
   "outputs": [],
   "source": [
    "# Run this cell\n",
    "n_slices = fixed_data.shape[-2]\n",
    "n_slices"
   ]
  },
  {
   "cell_type": "markdown",
   "id": "7b709333",
   "metadata": {},
   "source": [
    "Next, make a new vector `acquisition_order` that is length `n_slices`, where\n",
    "`acquisition_order[i]` is the order of acquisition of slice index `i`. For\n",
    "example, the first 4 elements of `acqusition_order` should be 0, 15, 1, 16."
   ]
  },
  {
   "cell_type": "code",
   "execution_count": 22,
   "id": "ef1d60fa",
   "metadata": {
    "execution": {
     "iopub.execute_input": "2022-09-21T05:24:14.774416Z",
     "iopub.status.busy": "2022-09-21T05:24:14.773365Z",
     "iopub.status.idle": "2022-09-21T05:24:14.777243Z",
     "shell.execute_reply": "2022-09-21T05:24:14.777894Z"
    }
   },
   "outputs": [],
   "source": [
    "#- Make acquisition_order vector, length 30, with values:\n",
    "#- 0, 15, 1, 16 ... 14, 29\n",
    "acquisition_order = np.zeros(30)\n",
    "acquisition_index = 0\n",
    "for i in range(0, 30, 2):\n",
    "    acquisition_order[i] = acquisition_index\n",
    "    acquisition_index += 1\n",
    "for i in range(1, 30, 2):\n",
    "    acquisition_order[i] = acquisition_index\n",
    "    acquisition_index += 1\n",
    "# Show the result\n",
    "acquisition_order"
   ]
  },
  {
   "cell_type": "code",
   "execution_count": 23,
   "id": "8de54fab",
   "metadata": {
    "execution": {
     "iopub.execute_input": "2022-09-21T05:24:14.783681Z",
     "iopub.status.busy": "2022-09-21T05:24:14.782799Z",
     "iopub.status.idle": "2022-09-21T05:24:14.785386Z",
     "shell.execute_reply": "2022-09-21T05:24:14.786521Z"
    }
   },
   "outputs": [],
   "source": [
    "assert len(acquisition_order) == n_slices\n",
    "assert np.all(acquisition_order[:4] == [0, 15, 1, 16])"
   ]
  },
  {
   "cell_type": "markdown",
   "id": "5300eb8e",
   "metadata": {},
   "source": [
    "Divide the acquisition order vector by number of slices, and multiply by the\n",
    "TR, to get the time offset for each z slice, relative to the start of the\n",
    "scan:"
   ]
  },
  {
   "cell_type": "code",
   "execution_count": 24,
   "id": "3905f7c3",
   "metadata": {
    "execution": {
     "iopub.execute_input": "2022-09-21T05:24:14.793488Z",
     "iopub.status.busy": "2022-09-21T05:24:14.792555Z",
     "iopub.status.idle": "2022-09-21T05:24:14.797235Z",
     "shell.execute_reply": "2022-09-21T05:24:14.796542Z"
    }
   },
   "outputs": [],
   "source": [
    "#- Divide acquisition_order by number of slices, multiply by TR\n",
    "time_offsets = acquisition_order / n_slices * TR\n",
    "# Show the result\n",
    "time_offsets"
   ]
  },
  {
   "cell_type": "code",
   "execution_count": 25,
   "id": "f83e8803",
   "metadata": {
    "execution": {
     "iopub.execute_input": "2022-09-21T05:24:14.803648Z",
     "iopub.status.busy": "2022-09-21T05:24:14.802631Z",
     "iopub.status.idle": "2022-09-21T05:24:14.805278Z",
     "shell.execute_reply": "2022-09-21T05:24:14.805933Z"
    }
   },
   "outputs": [],
   "source": [
    "assert len(time_offsets) == n_slices\n",
    "assert np.all(time_offsets[[0, 1, -1]] == [0, 1.25, 2.5 / 30 * 29])"
   ]
  },
  {
   "cell_type": "markdown",
   "id": "698e49f2",
   "metadata": {},
   "source": [
    "Now we can do our whole slice time correction, for every slice.\n",
    "\n",
    "* For each z coordinate (slice index):\n",
    "    * Make a time vector by adding the slice time offset for this slice, to the\n",
    "      `slice_0` times. Call this the `slice_z_times` vector;\n",
    "    * For each x coordinate:\n",
    "        * For each y coordinate:\n",
    "            * extract the time series at this x, y, z coordinate;\n",
    "            * make a linear interpolator object with the `slice_z_times` and\n",
    "              the extracted time series;\n",
    "            * resample this interpolator at the slice 0 times;\n",
    "            * put this new resampled time series into the new data at the same\n",
    "              position."
   ]
  },
  {
   "cell_type": "code",
   "execution_count": 26,
   "id": "045d0c45",
   "metadata": {
    "execution": {
     "iopub.execute_input": "2022-09-21T05:24:14.813674Z",
     "iopub.status.busy": "2022-09-21T05:24:14.812790Z",
     "iopub.status.idle": "2022-09-21T05:24:28.916096Z",
     "shell.execute_reply": "2022-09-21T05:24:28.916835Z"
    }
   },
   "outputs": [],
   "source": [
    "#- For each z coordinate (slice index):\n",
    "#- # Make `slice_z_times` vector for this slice\n",
    "#- ## For each x coordinate:\n",
    "#- ### For each y coordinate:\n",
    "#- #### extract the time series at this x, y, z coordinate;\n",
    "#- #### make a linear interpolator object with the `slice_z_times` and\n",
    "#-      the extracted time series;\n",
    "#- #### resample this interpolator at the slice 0 times;\n",
    "#- #### put this new resampled time series into the new data at the\n",
    "#-      same position\n",
    "for z in range(n_slices):\n",
    "    slice_z_times = slice_0_times + time_offsets[z]\n",
    "    for x in range(fixed_data.shape[0]):\n",
    "        for y in range(fixed_data.shape[1]):\n",
    "            time_series = fixed_data[x, y, z, :]\n",
    "            interp = InterpolatedUnivariateSpline(slice_z_times, time_series, k=1)\n",
    "            new_series = interp(slice_0_times)\n",
    "            new_data[x, y, z, :] = new_series"
   ]
  },
  {
   "cell_type": "markdown",
   "id": "f73c97e3",
   "metadata": {},
   "source": [
    "Congratulations - you have just done slice timing correction on this 4D image."
   ]
  }
 ],
 "metadata": {
  "jupytext": {
   "notebook_metadata_filter": "all,-language_info",
   "split_at_heading": true,
   "text_representation": {
    "extension": ".Rmd",
    "format_name": "rmarkdown",
    "format_version": "1.2",
    "jupytext_version": "1.10.3"
   }
  },
  "kernelspec": {
   "display_name": "Python 3",
   "language": "python",
   "name": "python3"
  },
  "language_info": {
   "codemirror_mode": {
    "name": "ipython",
    "version": 3
   },
   "file_extension": ".py",
   "mimetype": "text/x-python",
   "name": "python",
   "nbconvert_exporter": "python",
   "pygments_lexer": "ipython3",
   "version": "3.9.13"
  }
 },
 "nbformat": 4,
 "nbformat_minor": 5
}
